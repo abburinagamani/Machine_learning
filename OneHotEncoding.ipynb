{
  "nbformat": 4,
  "nbformat_minor": 0,
  "metadata": {
    "colab": {
      "provenance": [],
      "authorship_tag": "ABX9TyPj/4mK//yenEguOjYAGvgH",
      "include_colab_link": true
    },
    "kernelspec": {
      "name": "python3",
      "display_name": "Python 3"
    },
    "language_info": {
      "name": "python"
    }
  },
  "cells": [
    {
      "cell_type": "markdown",
      "metadata": {
        "id": "view-in-github",
        "colab_type": "text"
      },
      "source": [
        "<a href=\"https://colab.research.google.com/github/abburinagamani/Machine_learning/blob/main/OneHotEncoding.ipynb\" target=\"_parent\"><img src=\"https://colab.research.google.com/assets/colab-badge.svg\" alt=\"Open In Colab\"/></a>"
      ]
    },
    {
      "cell_type": "code",
      "execution_count": 3,
      "metadata": {
        "colab": {
          "base_uri": "https://localhost:8080/"
        },
        "id": "Z8i30l-F2Rks",
        "outputId": "cfcd91ea-da82-44aa-f53c-c0cb5fc7c95f"
      },
      "outputs": [
        {
          "output_type": "stream",
          "name": "stdout",
          "text": [
            "    Mileage  Sell Price($)  Age(yrs)  Audi A5  BMW X5\n",
            "0     69000          18000         6    False    True\n",
            "1     35000          34000         3    False    True\n",
            "2     57000          26100         5    False    True\n",
            "3     22500          40000         2    False    True\n",
            "4     46000          31500         4    False    True\n",
            "5     59000          29400         5     True   False\n",
            "6     52000          32000         5     True   False\n",
            "7     72000          19300         6     True   False\n",
            "8     91000          12000         8     True   False\n",
            "9     67000          22000         6    False   False\n",
            "10    83000          20000         7    False   False\n",
            "11    79000          21000         7    False   False\n",
            "12    59000          33000         5    False   False\n"
          ]
        }
      ],
      "source": [
        "import pandas as pd\n",
        "df=pd.read_csv('carprices.csv')\n",
        "dummies=pd.get_dummies(df['Car Model'])\n",
        "merged=pd.concat([df,dummies],axis='columns')\n",
        "final=merged.drop(['Car Model','Mercedez Benz C class'],axis='columns')\n",
        "print(final)"
      ]
    },
    {
      "cell_type": "code",
      "source": [
        "X = final.drop('Sell Price($)',axis='columns')\n",
        "print(X)"
      ],
      "metadata": {
        "colab": {
          "base_uri": "https://localhost:8080/"
        },
        "id": "e6aGz9gY4ljA",
        "outputId": "2eeac0b7-880d-406f-9fbb-be4f44c8f603"
      },
      "execution_count": 9,
      "outputs": [
        {
          "output_type": "stream",
          "name": "stdout",
          "text": [
            "    Mileage  Age(yrs)  Audi A5  BMW X5\n",
            "0     69000         6    False    True\n",
            "1     35000         3    False    True\n",
            "2     57000         5    False    True\n",
            "3     22500         2    False    True\n",
            "4     46000         4    False    True\n",
            "5     59000         5     True   False\n",
            "6     52000         5     True   False\n",
            "7     72000         6     True   False\n",
            "8     91000         8     True   False\n",
            "9     67000         6    False   False\n",
            "10    83000         7    False   False\n",
            "11    79000         7    False   False\n",
            "12    59000         5    False   False\n"
          ]
        }
      ]
    },
    {
      "cell_type": "code",
      "source": [
        "y = final['Sell Price($)']\n",
        "print(y)"
      ],
      "metadata": {
        "colab": {
          "base_uri": "https://localhost:8080/"
        },
        "id": "YRRHAf-G4p1J",
        "outputId": "fb917239-6ee3-4ad1-d8f3-fd37baa5644b"
      },
      "execution_count": 8,
      "outputs": [
        {
          "output_type": "stream",
          "name": "stdout",
          "text": [
            "0     18000\n",
            "1     34000\n",
            "2     26100\n",
            "3     40000\n",
            "4     31500\n",
            "5     29400\n",
            "6     32000\n",
            "7     19300\n",
            "8     12000\n",
            "9     22000\n",
            "10    20000\n",
            "11    21000\n",
            "12    33000\n",
            "Name: Sell Price($), dtype: int64\n"
          ]
        }
      ]
    },
    {
      "cell_type": "code",
      "source": [
        "from sklearn.linear_model import LinearRegression\n",
        "model = LinearRegression()\n",
        "model.fit(X,y)\n",
        "model.predict([[45000,4,0,0]])"
      ],
      "metadata": {
        "colab": {
          "base_uri": "https://localhost:8080/"
        },
        "id": "DhngU1Km4uFp",
        "outputId": "faae9104-f609-4990-8936-ea393410edf0"
      },
      "execution_count": 7,
      "outputs": [
        {
          "output_type": "stream",
          "name": "stderr",
          "text": [
            "/usr/local/lib/python3.12/dist-packages/sklearn/utils/validation.py:2739: UserWarning: X does not have valid feature names, but LinearRegression was fitted with feature names\n",
            "  warnings.warn(\n"
          ]
        },
        {
          "output_type": "execute_result",
          "data": {
            "text/plain": [
              "array([36991.31721061])"
            ]
          },
          "metadata": {},
          "execution_count": 7
        }
      ]
    }
  ]
}